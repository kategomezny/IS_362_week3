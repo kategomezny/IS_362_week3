{
 "cells": [
  {
   "cell_type": "markdown",
   "metadata": {},
   "source": [
    "# IS 362 - Project 1\n"
   ]
  },
  {
   "cell_type": "code",
   "execution_count": 54,
   "metadata": {},
   "outputs": [
    {
     "name": "stdout",
     "output_type": "stream",
     "text": [
      "   Airline           city  on time  delayed\n",
      "0   Alaska    Los Angeles      497       62\n",
      "1   Alaska        Phoenix      221       12\n",
      "2   Alaska      San Diego      212       20\n",
      "3   Alaska  San Francisco      503      102\n",
      "4   Alaska        Seattle     1841      305\n",
      "5  AM West    Los Angeles      694      117\n",
      "6  AM West        Phoenix     4850      415\n",
      "7  AM West      San Diego      383       65\n",
      "8  AM West  San Francisco      320      129\n",
      "9  AM West        Seattle      201       61\n"
     ]
    }
   ],
   "source": [
    "#import numpy and pandas, and DataFrame / Series\n",
    "import numpy as np\n",
    "import pandas as pd\n",
    "from pandas import DataFrame, Series\n",
    "\n",
    "#Read data from file 'project1v2.csv' \n",
    "data = pd.read_csv(\"C:/Users/KATERINE/Documents/cuny classes/DATA ACQ AND MANAGEM/week 3/project1v2.csv\") \n",
    "df = pd.DataFrame(data, columns= ['Airline', 'city', 'on time', 'delayed'])\n",
    "print (df)\n"
   ]
  },
  {
   "cell_type": "code",
   "execution_count": 55,
   "metadata": {},
   "outputs": [
    {
     "data": {
      "text/plain": [
       "Airline    AM West\n",
       "city       Phoenix\n",
       "on time       4850\n",
       "delayed        415\n",
       "Name: 6, dtype: object"
      ]
     },
     "execution_count": 55,
     "metadata": {},
     "output_type": "execute_result"
    }
   ],
   "source": [
    "#Getting the maximun ontime time from the DataFrame\n",
    "df.loc[df['on time'].idxmax()]"
   ]
  },
  {
   "cell_type": "markdown",
   "metadata": {},
   "source": [
    "*The Airline with the best on time is AM West.   At the same time the city with the best on time is Phoenix.*"
   ]
  },
  {
   "cell_type": "code",
   "execution_count": 56,
   "metadata": {},
   "outputs": [
    {
     "data": {
      "text/plain": [
       "Airline    AM West\n",
       "city       Phoenix\n",
       "on time       4850\n",
       "delayed        415\n",
       "Name: 6, dtype: object"
      ]
     },
     "execution_count": 56,
     "metadata": {},
     "output_type": "execute_result"
    }
   ],
   "source": [
    "#Getting the maximun delay from the DataFrame\n",
    "df.loc[df['delayed'].idxmax()]"
   ]
  },
  {
   "cell_type": "markdown",
   "metadata": {},
   "source": [
    "*The Airline with the maximun delay time is AM West.  At the same time the city with the maximun delay time is Phoenix.*"
   ]
  },
  {
   "cell_type": "code",
   "execution_count": 57,
   "metadata": {},
   "outputs": [
    {
     "data": {
      "text/plain": [
       "Airline    AM West\n",
       "city       Seattle\n",
       "on time        201\n",
       "delayed         61\n",
       "Name: 9, dtype: object"
      ]
     },
     "execution_count": 57,
     "metadata": {},
     "output_type": "execute_result"
    }
   ],
   "source": [
    "#Getting the minimun on time time from the DataFrame\n",
    "df.loc[df['on time'].idxmin()]"
   ]
  },
  {
   "cell_type": "markdown",
   "metadata": {},
   "source": [
    "*AM West has the lowest on time while traveling to Seattle.*"
   ]
  },
  {
   "cell_type": "code",
   "execution_count": 58,
   "metadata": {},
   "outputs": [
    {
     "data": {
      "text/plain": [
       "Airline     Alaska\n",
       "city       Phoenix\n",
       "on time        221\n",
       "delayed         12\n",
       "Name: 1, dtype: object"
      ]
     },
     "execution_count": 58,
     "metadata": {},
     "output_type": "execute_result"
    }
   ],
   "source": [
    "#Getting the minimun delay time from the DataFrame\n",
    "df.loc[df['delayed'].idxmin()]"
   ]
  },
  {
   "cell_type": "markdown",
   "metadata": {},
   "source": [
    "*Alaska has the lowest delay time while traveling to Phoenix.*"
   ]
  },
  {
   "cell_type": "code",
   "execution_count": 59,
   "metadata": {},
   "outputs": [
    {
     "name": "stdout",
     "output_type": "stream",
     "text": [
      "         on time  delayed\n",
      "Airline                  \n",
      "AM West   1289.6    157.4\n",
      "Alaska     654.8    100.2\n"
     ]
    }
   ],
   "source": [
    "#Getting the average on time and delay time by Airline\n",
    "groupby_Airline = df.groupby(['Airline']).mean()\n",
    "print (groupby_Airline)"
   ]
  },
  {
   "cell_type": "markdown",
   "metadata": {},
   "source": [
    "*AM West has the best average on time from both airlines.*"
   ]
  },
  {
   "cell_type": "code",
   "execution_count": 60,
   "metadata": {},
   "outputs": [
    {
     "name": "stdout",
     "output_type": "stream",
     "text": [
      "               on time  delayed\n",
      "city                           \n",
      "Los Angeles      595.5     89.5\n",
      "Phoenix         2535.5    213.5\n",
      "San Diego        297.5     42.5\n",
      "San Francisco    411.5    115.5\n",
      "Seattle         1021.0    183.0\n"
     ]
    }
   ],
   "source": [
    "#Getting the average on time and delay time by city\n",
    "groupby_city = df.groupby(['city']).mean()\n",
    "print (groupby_city)"
   ]
  },
  {
   "cell_type": "markdown",
   "metadata": {},
   "source": [
    "*Phoenix is the city with the best on time average.*"
   ]
  },
  {
   "cell_type": "code",
   "execution_count": 61,
   "metadata": {},
   "outputs": [
    {
     "data": {
      "image/png": "[encoded data removed]",
      "text/plain": [
       "<Figure size 432x288 with 1 Axes>"
      ]
     },
     "metadata": {
      "needs_background": "light"
     },
     "output_type": "display_data"
    },
    {
     "data": {
      "image/png": "[encoded data removed]",
      "text/plain": [
       "<Figure size 432x288 with 1 Axes>"
      ]
     },
     "metadata": {
      "needs_background": "light"
     },
     "output_type": "display_data"
    }
   ],
   "source": [
    "OnTime=df.pivot(index='Airline', columns='city', values='on time').plot(kind='bar', title='Airlines On Time Flights by City')\n",
    "Delayed=df.pivot(index='Airline', columns='city', values='delayed').plot(kind='bar', title='Airlines delayed Flights by City')"
   ]
  },
  {
   "cell_type": "markdown",
   "metadata": {},
   "source": [
    "*From the first graphic we can conclude that AM West has the best on time average while traveling to Phoenix, followed by Alaska while traveling to Seattle*\n",
    "\n",
    "*From the second graphic we can conclude that AM West has the worst delay time while traveling to Phoenix, followed my Alaska while traveling to Seattle.*"
   ]
  },
  {
   "cell_type": "code",
   "execution_count": null,
   "metadata": {},
   "outputs": [],
   "source": []
  },
  {
   "cell_type": "code",
   "execution_count": null,
   "metadata": {},
   "outputs": [],
   "source": []
  }
 ],
 "metadata": {
  "kernelspec": {
   "display_name": "Python 3",
   "language": "python",
   "name": "python3"
  },
  "language_info": {
   "codemirror_mode": {
    "name": "ipython",
    "version": 3
   },
   "file_extension": ".py",
   "mimetype": "text/x-python",
   "name": "python",
   "nbconvert_exporter": "python",
   "pygments_lexer": "ipython3",
   "version": "3.7.3"
  }
 },
 "nbformat": 4,
 "nbformat_minor": 2
}
